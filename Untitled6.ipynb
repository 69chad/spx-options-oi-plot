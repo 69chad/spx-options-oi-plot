{
  "nbformat": 4,
  "nbformat_minor": 0,
  "metadata": {
    "colab": {
      "provenance": [],
      "authorship_tag": "ABX9TyOHvtqwbVBX98Iwt8wYYYWs",
      "include_colab_link": true
    },
    "kernelspec": {
      "name": "python3",
      "display_name": "Python 3"
    },
    "language_info": {
      "name": "python"
    }
  },
  "cells": [
    {
      "cell_type": "markdown",
      "metadata": {
        "id": "view-in-github",
        "colab_type": "text"
      },
      "source": [
        "<a href=\"https://colab.research.google.com/github/69chad/spx-options-oi-plot/blob/main/Untitled6.ipynb\" target=\"_parent\"><img src=\"https://colab.research.google.com/assets/colab-badge.svg\" alt=\"Open In Colab\"/></a>"
      ]
    },
    {
      "cell_type": "code",
      "execution_count": 1,
      "metadata": {
        "colab": {
          "base_uri": "https://localhost:8080/"
        },
        "id": "XqkkdktGtCjJ",
        "outputId": "9ea88ae4-9c56-4a24-d129-588262a89079"
      },
      "outputs": [
        {
          "output_type": "stream",
          "name": "stdout",
          "text": [
            "Requirement already satisfied: yfinance in /usr/local/lib/python3.11/dist-packages (0.2.65)\n",
            "Requirement already satisfied: plotly in /usr/local/lib/python3.11/dist-packages (5.24.1)\n",
            "Requirement already satisfied: pandas in /usr/local/lib/python3.11/dist-packages (2.2.2)\n",
            "Requirement already satisfied: numpy>=1.16.5 in /usr/local/lib/python3.11/dist-packages (from yfinance) (2.0.2)\n",
            "Requirement already satisfied: requests>=2.31 in /usr/local/lib/python3.11/dist-packages (from yfinance) (2.32.3)\n",
            "Requirement already satisfied: multitasking>=0.0.7 in /usr/local/lib/python3.11/dist-packages (from yfinance) (0.0.12)\n",
            "Requirement already satisfied: platformdirs>=2.0.0 in /usr/local/lib/python3.11/dist-packages (from yfinance) (4.3.8)\n",
            "Requirement already satisfied: pytz>=2022.5 in /usr/local/lib/python3.11/dist-packages (from yfinance) (2025.2)\n",
            "Requirement already satisfied: frozendict>=2.3.4 in /usr/local/lib/python3.11/dist-packages (from yfinance) (2.4.6)\n",
            "Requirement already satisfied: peewee>=3.16.2 in /usr/local/lib/python3.11/dist-packages (from yfinance) (3.18.2)\n",
            "Requirement already satisfied: beautifulsoup4>=4.11.1 in /usr/local/lib/python3.11/dist-packages (from yfinance) (4.13.4)\n",
            "Requirement already satisfied: curl_cffi>=0.7 in /usr/local/lib/python3.11/dist-packages (from yfinance) (0.12.0)\n",
            "Requirement already satisfied: protobuf>=3.19.0 in /usr/local/lib/python3.11/dist-packages (from yfinance) (5.29.5)\n",
            "Requirement already satisfied: websockets>=13.0 in /usr/local/lib/python3.11/dist-packages (from yfinance) (15.0.1)\n",
            "Requirement already satisfied: tenacity>=6.2.0 in /usr/local/lib/python3.11/dist-packages (from plotly) (8.5.0)\n",
            "Requirement already satisfied: packaging in /usr/local/lib/python3.11/dist-packages (from plotly) (25.0)\n",
            "Requirement already satisfied: python-dateutil>=2.8.2 in /usr/local/lib/python3.11/dist-packages (from pandas) (2.9.0.post0)\n",
            "Requirement already satisfied: tzdata>=2022.7 in /usr/local/lib/python3.11/dist-packages (from pandas) (2025.2)\n",
            "Requirement already satisfied: soupsieve>1.2 in /usr/local/lib/python3.11/dist-packages (from beautifulsoup4>=4.11.1->yfinance) (2.7)\n",
            "Requirement already satisfied: typing-extensions>=4.0.0 in /usr/local/lib/python3.11/dist-packages (from beautifulsoup4>=4.11.1->yfinance) (4.14.1)\n",
            "Requirement already satisfied: cffi>=1.12.0 in /usr/local/lib/python3.11/dist-packages (from curl_cffi>=0.7->yfinance) (1.17.1)\n",
            "Requirement already satisfied: certifi>=2024.2.2 in /usr/local/lib/python3.11/dist-packages (from curl_cffi>=0.7->yfinance) (2025.7.14)\n",
            "Requirement already satisfied: six>=1.5 in /usr/local/lib/python3.11/dist-packages (from python-dateutil>=2.8.2->pandas) (1.17.0)\n",
            "Requirement already satisfied: charset-normalizer<4,>=2 in /usr/local/lib/python3.11/dist-packages (from requests>=2.31->yfinance) (3.4.2)\n",
            "Requirement already satisfied: idna<4,>=2.5 in /usr/local/lib/python3.11/dist-packages (from requests>=2.31->yfinance) (3.10)\n",
            "Requirement already satisfied: urllib3<3,>=1.21.1 in /usr/local/lib/python3.11/dist-packages (from requests>=2.31->yfinance) (2.5.0)\n",
            "Requirement already satisfied: pycparser in /usr/local/lib/python3.11/dist-packages (from cffi>=1.12.0->curl_cffi>=0.7->yfinance) (2.22)\n"
          ]
        }
      ],
      "source": [
        "# Required libraries\n",
        "!pip install yfinance plotly pandas\n",
        "\n",
        "import yfinance as yf\n",
        "import pandas as pd\n",
        "import plotly.express as px\n"
      ]
    },
    {
      "cell_type": "code",
      "source": [
        "# Load SPX from Yahoo Finance\n",
        "ticker = yf.Ticker(\"^SPX\")\n",
        "\n",
        "# Get available expiries\n",
        "expiries = ticker.options\n",
        "print(\"Available expiries:\", expiries)\n",
        "\n",
        "# Choose the nearest expiry (you can automate this)\n",
        "expiry = expiries[0]\n",
        "\n",
        "# Fetch option chain\n",
        "opt_chain = ticker.option_chain(expiry)\n",
        "calls = opt_chain.calls\n",
        "puts = opt_chain.puts\n"
      ],
      "metadata": {
        "colab": {
          "base_uri": "https://localhost:8080/"
        },
        "id": "ojbYMKRFtZxA",
        "outputId": "95a08105-ae8a-40cc-9d67-8f0958cc8435"
      },
      "execution_count": 2,
      "outputs": [
        {
          "output_type": "stream",
          "name": "stdout",
          "text": [
            "Available expiries: ('2025-08-04', '2025-08-05', '2025-08-06', '2025-08-07', '2025-08-08', '2025-08-11', '2025-08-12', '2025-08-13', '2025-08-14', '2025-08-15', '2025-08-18', '2025-08-19', '2025-08-20', '2025-08-21', '2025-08-22', '2025-08-25', '2025-08-26', '2025-08-27', '2025-08-28', '2025-08-29', '2025-09-02', '2025-09-05', '2025-09-08', '2025-09-12', '2025-09-19', '2025-09-30', '2025-10-17', '2025-10-31', '2025-11-21', '2025-11-28', '2025-12-19', '2025-12-31', '2026-01-16', '2026-02-20', '2026-03-20', '2026-03-31', '2026-04-17', '2026-05-15', '2026-06-18', '2026-06-30', '2026-07-17', '2026-08-21', '2026-09-18', '2026-12-18', '2027-06-17', '2027-12-17', '2028-12-15', '2029-12-21', '2030-12-20')\n"
          ]
        }
      ]
    },
    {
      "cell_type": "code",
      "source": [
        "# Combine calls and puts\n",
        "calls['type'] = 'Call'\n",
        "puts['type'] = 'Put'\n",
        "options_df = pd.concat([calls, puts])\n",
        "\n",
        "# Plot OI by strike\n",
        "fig = px.bar(\n",
        "    options_df,\n",
        "    x='strike',\n",
        "    y='openInterest',\n",
        "    color='type',\n",
        "    title=f\"SPX Open Interest by Strike - Expiry {expiry}\"\n",
        ")\n",
        "fig.show()\n"
      ],
      "metadata": {
        "colab": {
          "base_uri": "https://localhost:8080/",
          "height": 542
        },
        "id": "SJ_RzNcttg5O",
        "outputId": "49642673-0c90-4142-c5bf-db15ec167f51"
      },
      "execution_count": 3,
      "outputs": [
        {
          "output_type": "display_data",
          "data": {
            "text/html": [
              "<html>\n",
              "<head><meta charset=\"utf-8\" /></head>\n",
              "<body>\n",
              "    <div>            <script src=\"https://cdnjs.cloudflare.com/ajax/libs/mathjax/2.7.5/MathJax.js?config=TeX-AMS-MML_SVG\"></script><script type=\"text/javascript\">if (window.MathJax && window.MathJax.Hub && window.MathJax.Hub.Config) {window.MathJax.Hub.Config({SVG: {font: \"STIX-Web\"}});}</script>                <script type=\"text/javascript\">window.PlotlyConfig = {MathJaxConfig: 'local'};</script>\n",
              "        <script charset=\"utf-8\" src=\"https://cdn.plot.ly/plotly-2.35.2.min.js\"></script>                <div id=\"7a268aee-96dc-43c9-a5bb-9962a288562d\" class=\"plotly-graph-div\" style=\"height:525px; width:100%;\"></div>            <script type=\"text/javascript\">                                    window.PLOTLYENV=window.PLOTLYENV || {};                                    if (document.getElementById(\"7a268aee-96dc-43c9-a5bb-9962a288562d\")) {                    Plotly.newPlot(                        \"7a268aee-96dc-43c9-a5bb-9962a288562d\",                        [{\"alignmentgroup\":\"True\",\"hovertemplate\":\"type=Call\\u003cbr\\u003estrike=%{x}\\u003cbr\\u003eopenInterest=%{y}\\u003cextra\\u003e\\u003c\\u002fextra\\u003e\",\"legendgroup\":\"Call\",\"marker\":{\"color\":\"#636efa\",\"pattern\":{\"shape\":\"\"}},\"name\":\"Call\",\"offsetgroup\":\"Call\",\"orientation\":\"v\",\"showlegend\":true,\"textposition\":\"auto\",\"x\":[4800.0,4900.0,5000.0,5300.0,5350.0,5400.0,5650.0,5675.0,5700.0,5750.0,5900.0,5925.0,5930.0,5950.0,5960.0,5970.0,5975.0,5980.0,6000.0,6010.0,6025.0,6030.0,6040.0,6050.0,6070.0,6090.0,6100.0,6110.0,6120.0,6125.0,6130.0,6135.0,6140.0,6150.0,6155.0,6160.0,6165.0,6170.0,6175.0,6180.0,6190.0,6200.0,6205.0,6210.0,6215.0,6220.0,6225.0,6230.0,6235.0,6240.0,6245.0,6250.0,6255.0,6260.0,6265.0,6270.0,6275.0,6280.0,6285.0,6290.0,6295.0,6300.0,6305.0,6310.0,6315.0,6320.0,6325.0,6330.0,6335.0,6340.0,6345.0,6350.0,6355.0,6360.0,6365.0,6370.0,6375.0,6380.0,6385.0,6390.0,6395.0,6400.0,6405.0,6410.0,6415.0,6420.0,6425.0,6430.0,6435.0,6440.0,6445.0,6450.0,6455.0,6460.0,6465.0,6470.0,6475.0,6480.0,6485.0,6490.0,6500.0,6510.0,6520.0,6525.0,6530.0,6540.0,6550.0,6575.0,6600.0,6625.0,6650.0,6675.0,6700.0,6750.0,6800.0,6900.0,7000.0,7400.0,7800.0],\"xaxis\":\"x\",\"y\":[3,3,18,9,10,8,100,100,1,5,1,6,1,1,2,4,2,1,2,1,6,9,12,8,11,83,53,20,4,8,1,8,16,56,10,45,1,17,71,15,8,157,22,70,18,63,124,38,11,80,16,1077,24,78,31,156,278,76,36,70,27,1427,133,154,38,161,449,98,70,144,159,1613,217,522,195,254,776,376,368,698,395,2274,213,530,415,636,1009,684,568,347,478,4650,318,624,1167,427,1488,479,947,815,12459,727,885,3204,831,983,1613,665,594,410,195,46,260,166,97,19,22,1,1],\"yaxis\":\"y\",\"type\":\"bar\"},{\"alignmentgroup\":\"True\",\"hovertemplate\":\"type=Put\\u003cbr\\u003estrike=%{x}\\u003cbr\\u003eopenInterest=%{y}\\u003cextra\\u003e\\u003c\\u002fextra\\u003e\",\"legendgroup\":\"Put\",\"marker\":{\"color\":\"#EF553B\",\"pattern\":{\"shape\":\"\"}},\"name\":\"Put\",\"offsetgroup\":\"Put\",\"orientation\":\"v\",\"showlegend\":true,\"textposition\":\"auto\",\"x\":[2600.0,2800.0,3200.0,3400.0,3600.0,3800.0,4000.0,4200.0,4400.0,4600.0,4800.0,4900.0,5000.0,5100.0,5200.0,5300.0,5350.0,5375.0,5400.0,5425.0,5450.0,5475.0,5500.0,5525.0,5550.0,5575.0,5600.0,5625.0,5650.0,5675.0,5700.0,5725.0,5750.0,5775.0,5800.0,5825.0,5850.0,5875.0,5900.0,5925.0,5930.0,5940.0,5950.0,5960.0,5970.0,5975.0,5980.0,5990.0,6000.0,6010.0,6020.0,6025.0,6030.0,6040.0,6050.0,6055.0,6060.0,6065.0,6070.0,6075.0,6080.0,6085.0,6090.0,6095.0,6100.0,6105.0,6110.0,6115.0,6120.0,6125.0,6130.0,6135.0,6140.0,6145.0,6150.0,6155.0,6160.0,6165.0,6170.0,6175.0,6180.0,6185.0,6190.0,6195.0,6200.0,6205.0,6210.0,6215.0,6220.0,6225.0,6230.0,6235.0,6240.0,6245.0,6250.0,6255.0,6260.0,6265.0,6270.0,6275.0,6280.0,6285.0,6290.0,6295.0,6300.0,6305.0,6310.0,6315.0,6320.0,6325.0,6330.0,6335.0,6340.0,6345.0,6350.0,6355.0,6360.0,6365.0,6370.0,6375.0,6380.0,6385.0,6390.0,6395.0,6400.0,6405.0,6410.0,6415.0,6420.0,6425.0,6430.0,6435.0,6440.0,6445.0,6450.0,6470.0,6490.0,6500.0,6520.0,6525.0,6650.0,6700.0,6800.0],\"xaxis\":\"x\",\"y\":[8,0,27,5,24,19,259,179,1596,251,1364,592,5412,1632,7181,317,1138,308,1358,69,3085,179,1246,55,119,21,1169,565,758,300,562,273,2472,347,1862,252,1701,392,1355,2765,119,165,1436,272,60,863,122,116,858,195,328,1239,188,207,2009,56,78,31,965,223,271,177,285,529,1499,201,694,360,1787,1482,818,208,328,166,1248,387,362,4645,970,344,505,128,1101,235,3078,968,605,356,2097,742,401,446,592,542,5884,251,287,244,336,1100,808,519,349,448,6383,342,578,469,782,872,699,293,768,495,2233,525,700,1048,580,1003,883,205,676,261,1577,214,441,278,217,330,73,57,73,57,2600,14,2,33,24,10,33,30,1],\"yaxis\":\"y\",\"type\":\"bar\"}],                        {\"template\":{\"data\":{\"histogram2dcontour\":[{\"type\":\"histogram2dcontour\",\"colorbar\":{\"outlinewidth\":0,\"ticks\":\"\"},\"colorscale\":[[0.0,\"#0d0887\"],[0.1111111111111111,\"#46039f\"],[0.2222222222222222,\"#7201a8\"],[0.3333333333333333,\"#9c179e\"],[0.4444444444444444,\"#bd3786\"],[0.5555555555555556,\"#d8576b\"],[0.6666666666666666,\"#ed7953\"],[0.7777777777777778,\"#fb9f3a\"],[0.8888888888888888,\"#fdca26\"],[1.0,\"#f0f921\"]]}],\"choropleth\":[{\"type\":\"choropleth\",\"colorbar\":{\"outlinewidth\":0,\"ticks\":\"\"}}],\"histogram2d\":[{\"type\":\"histogram2d\",\"colorbar\":{\"outlinewidth\":0,\"ticks\":\"\"},\"colorscale\":[[0.0,\"#0d0887\"],[0.1111111111111111,\"#46039f\"],[0.2222222222222222,\"#7201a8\"],[0.3333333333333333,\"#9c179e\"],[0.4444444444444444,\"#bd3786\"],[0.5555555555555556,\"#d8576b\"],[0.6666666666666666,\"#ed7953\"],[0.7777777777777778,\"#fb9f3a\"],[0.8888888888888888,\"#fdca26\"],[1.0,\"#f0f921\"]]}],\"heatmap\":[{\"type\":\"heatmap\",\"colorbar\":{\"outlinewidth\":0,\"ticks\":\"\"},\"colorscale\":[[0.0,\"#0d0887\"],[0.1111111111111111,\"#46039f\"],[0.2222222222222222,\"#7201a8\"],[0.3333333333333333,\"#9c179e\"],[0.4444444444444444,\"#bd3786\"],[0.5555555555555556,\"#d8576b\"],[0.6666666666666666,\"#ed7953\"],[0.7777777777777778,\"#fb9f3a\"],[0.8888888888888888,\"#fdca26\"],[1.0,\"#f0f921\"]]}],\"heatmapgl\":[{\"type\":\"heatmapgl\",\"colorbar\":{\"outlinewidth\":0,\"ticks\":\"\"},\"colorscale\":[[0.0,\"#0d0887\"],[0.1111111111111111,\"#46039f\"],[0.2222222222222222,\"#7201a8\"],[0.3333333333333333,\"#9c179e\"],[0.4444444444444444,\"#bd3786\"],[0.5555555555555556,\"#d8576b\"],[0.6666666666666666,\"#ed7953\"],[0.7777777777777778,\"#fb9f3a\"],[0.8888888888888888,\"#fdca26\"],[1.0,\"#f0f921\"]]}],\"contourcarpet\":[{\"type\":\"contourcarpet\",\"colorbar\":{\"outlinewidth\":0,\"ticks\":\"\"}}],\"contour\":[{\"type\":\"contour\",\"colorbar\":{\"outlinewidth\":0,\"ticks\":\"\"},\"colorscale\":[[0.0,\"#0d0887\"],[0.1111111111111111,\"#46039f\"],[0.2222222222222222,\"#7201a8\"],[0.3333333333333333,\"#9c179e\"],[0.4444444444444444,\"#bd3786\"],[0.5555555555555556,\"#d8576b\"],[0.6666666666666666,\"#ed7953\"],[0.7777777777777778,\"#fb9f3a\"],[0.8888888888888888,\"#fdca26\"],[1.0,\"#f0f921\"]]}],\"surface\":[{\"type\":\"surface\",\"colorbar\":{\"outlinewidth\":0,\"ticks\":\"\"},\"colorscale\":[[0.0,\"#0d0887\"],[0.1111111111111111,\"#46039f\"],[0.2222222222222222,\"#7201a8\"],[0.3333333333333333,\"#9c179e\"],[0.4444444444444444,\"#bd3786\"],[0.5555555555555556,\"#d8576b\"],[0.6666666666666666,\"#ed7953\"],[0.7777777777777778,\"#fb9f3a\"],[0.8888888888888888,\"#fdca26\"],[1.0,\"#f0f921\"]]}],\"mesh3d\":[{\"type\":\"mesh3d\",\"colorbar\":{\"outlinewidth\":0,\"ticks\":\"\"}}],\"scatter\":[{\"fillpattern\":{\"fillmode\":\"overlay\",\"size\":10,\"solidity\":0.2},\"type\":\"scatter\"}],\"parcoords\":[{\"type\":\"parcoords\",\"line\":{\"colorbar\":{\"outlinewidth\":0,\"ticks\":\"\"}}}],\"scatterpolargl\":[{\"type\":\"scatterpolargl\",\"marker\":{\"colorbar\":{\"outlinewidth\":0,\"ticks\":\"\"}}}],\"bar\":[{\"error_x\":{\"color\":\"#2a3f5f\"},\"error_y\":{\"color\":\"#2a3f5f\"},\"marker\":{\"line\":{\"color\":\"#E5ECF6\",\"width\":0.5},\"pattern\":{\"fillmode\":\"overlay\",\"size\":10,\"solidity\":0.2}},\"type\":\"bar\"}],\"scattergeo\":[{\"type\":\"scattergeo\",\"marker\":{\"colorbar\":{\"outlinewidth\":0,\"ticks\":\"\"}}}],\"scatterpolar\":[{\"type\":\"scatterpolar\",\"marker\":{\"colorbar\":{\"outlinewidth\":0,\"ticks\":\"\"}}}],\"histogram\":[{\"marker\":{\"pattern\":{\"fillmode\":\"overlay\",\"size\":10,\"solidity\":0.2}},\"type\":\"histogram\"}],\"scattergl\":[{\"type\":\"scattergl\",\"marker\":{\"colorbar\":{\"outlinewidth\":0,\"ticks\":\"\"}}}],\"scatter3d\":[{\"type\":\"scatter3d\",\"line\":{\"colorbar\":{\"outlinewidth\":0,\"ticks\":\"\"}},\"marker\":{\"colorbar\":{\"outlinewidth\":0,\"ticks\":\"\"}}}],\"scattermapbox\":[{\"type\":\"scattermapbox\",\"marker\":{\"colorbar\":{\"outlinewidth\":0,\"ticks\":\"\"}}}],\"scatterternary\":[{\"type\":\"scatterternary\",\"marker\":{\"colorbar\":{\"outlinewidth\":0,\"ticks\":\"\"}}}],\"scattercarpet\":[{\"type\":\"scattercarpet\",\"marker\":{\"colorbar\":{\"outlinewidth\":0,\"ticks\":\"\"}}}],\"carpet\":[{\"aaxis\":{\"endlinecolor\":\"#2a3f5f\",\"gridcolor\":\"white\",\"linecolor\":\"white\",\"minorgridcolor\":\"white\",\"startlinecolor\":\"#2a3f5f\"},\"baxis\":{\"endlinecolor\":\"#2a3f5f\",\"gridcolor\":\"white\",\"linecolor\":\"white\",\"minorgridcolor\":\"white\",\"startlinecolor\":\"#2a3f5f\"},\"type\":\"carpet\"}],\"table\":[{\"cells\":{\"fill\":{\"color\":\"#EBF0F8\"},\"line\":{\"color\":\"white\"}},\"header\":{\"fill\":{\"color\":\"#C8D4E3\"},\"line\":{\"color\":\"white\"}},\"type\":\"table\"}],\"barpolar\":[{\"marker\":{\"line\":{\"color\":\"#E5ECF6\",\"width\":0.5},\"pattern\":{\"fillmode\":\"overlay\",\"size\":10,\"solidity\":0.2}},\"type\":\"barpolar\"}],\"pie\":[{\"automargin\":true,\"type\":\"pie\"}]},\"layout\":{\"autotypenumbers\":\"strict\",\"colorway\":[\"#636efa\",\"#EF553B\",\"#00cc96\",\"#ab63fa\",\"#FFA15A\",\"#19d3f3\",\"#FF6692\",\"#B6E880\",\"#FF97FF\",\"#FECB52\"],\"font\":{\"color\":\"#2a3f5f\"},\"hovermode\":\"closest\",\"hoverlabel\":{\"align\":\"left\"},\"paper_bgcolor\":\"white\",\"plot_bgcolor\":\"#E5ECF6\",\"polar\":{\"bgcolor\":\"#E5ECF6\",\"angularaxis\":{\"gridcolor\":\"white\",\"linecolor\":\"white\",\"ticks\":\"\"},\"radialaxis\":{\"gridcolor\":\"white\",\"linecolor\":\"white\",\"ticks\":\"\"}},\"ternary\":{\"bgcolor\":\"#E5ECF6\",\"aaxis\":{\"gridcolor\":\"white\",\"linecolor\":\"white\",\"ticks\":\"\"},\"baxis\":{\"gridcolor\":\"white\",\"linecolor\":\"white\",\"ticks\":\"\"},\"caxis\":{\"gridcolor\":\"white\",\"linecolor\":\"white\",\"ticks\":\"\"}},\"coloraxis\":{\"colorbar\":{\"outlinewidth\":0,\"ticks\":\"\"}},\"colorscale\":{\"sequential\":[[0.0,\"#0d0887\"],[0.1111111111111111,\"#46039f\"],[0.2222222222222222,\"#7201a8\"],[0.3333333333333333,\"#9c179e\"],[0.4444444444444444,\"#bd3786\"],[0.5555555555555556,\"#d8576b\"],[0.6666666666666666,\"#ed7953\"],[0.7777777777777778,\"#fb9f3a\"],[0.8888888888888888,\"#fdca26\"],[1.0,\"#f0f921\"]],\"sequentialminus\":[[0.0,\"#0d0887\"],[0.1111111111111111,\"#46039f\"],[0.2222222222222222,\"#7201a8\"],[0.3333333333333333,\"#9c179e\"],[0.4444444444444444,\"#bd3786\"],[0.5555555555555556,\"#d8576b\"],[0.6666666666666666,\"#ed7953\"],[0.7777777777777778,\"#fb9f3a\"],[0.8888888888888888,\"#fdca26\"],[1.0,\"#f0f921\"]],\"diverging\":[[0,\"#8e0152\"],[0.1,\"#c51b7d\"],[0.2,\"#de77ae\"],[0.3,\"#f1b6da\"],[0.4,\"#fde0ef\"],[0.5,\"#f7f7f7\"],[0.6,\"#e6f5d0\"],[0.7,\"#b8e186\"],[0.8,\"#7fbc41\"],[0.9,\"#4d9221\"],[1,\"#276419\"]]},\"xaxis\":{\"gridcolor\":\"white\",\"linecolor\":\"white\",\"ticks\":\"\",\"title\":{\"standoff\":15},\"zerolinecolor\":\"white\",\"automargin\":true,\"zerolinewidth\":2},\"yaxis\":{\"gridcolor\":\"white\",\"linecolor\":\"white\",\"ticks\":\"\",\"title\":{\"standoff\":15},\"zerolinecolor\":\"white\",\"automargin\":true,\"zerolinewidth\":2},\"scene\":{\"xaxis\":{\"backgroundcolor\":\"#E5ECF6\",\"gridcolor\":\"white\",\"linecolor\":\"white\",\"showbackground\":true,\"ticks\":\"\",\"zerolinecolor\":\"white\",\"gridwidth\":2},\"yaxis\":{\"backgroundcolor\":\"#E5ECF6\",\"gridcolor\":\"white\",\"linecolor\":\"white\",\"showbackground\":true,\"ticks\":\"\",\"zerolinecolor\":\"white\",\"gridwidth\":2},\"zaxis\":{\"backgroundcolor\":\"#E5ECF6\",\"gridcolor\":\"white\",\"linecolor\":\"white\",\"showbackground\":true,\"ticks\":\"\",\"zerolinecolor\":\"white\",\"gridwidth\":2}},\"shapedefaults\":{\"line\":{\"color\":\"#2a3f5f\"}},\"annotationdefaults\":{\"arrowcolor\":\"#2a3f5f\",\"arrowhead\":0,\"arrowwidth\":1},\"geo\":{\"bgcolor\":\"white\",\"landcolor\":\"#E5ECF6\",\"subunitcolor\":\"white\",\"showland\":true,\"showlakes\":true,\"lakecolor\":\"white\"},\"title\":{\"x\":0.05},\"mapbox\":{\"style\":\"light\"}}},\"xaxis\":{\"anchor\":\"y\",\"domain\":[0.0,1.0],\"title\":{\"text\":\"strike\"}},\"yaxis\":{\"anchor\":\"x\",\"domain\":[0.0,1.0],\"title\":{\"text\":\"openInterest\"}},\"legend\":{\"title\":{\"text\":\"type\"},\"tracegroupgap\":0},\"title\":{\"text\":\"SPX Open Interest by Strike - Expiry 2025-08-04\"},\"barmode\":\"relative\"},                        {\"responsive\": true}                    ).then(function(){\n",
              "                            \n",
              "var gd = document.getElementById('7a268aee-96dc-43c9-a5bb-9962a288562d');\n",
              "var x = new MutationObserver(function (mutations, observer) {{\n",
              "        var display = window.getComputedStyle(gd).display;\n",
              "        if (!display || display === 'none') {{\n",
              "            console.log([gd, 'removed!']);\n",
              "            Plotly.purge(gd);\n",
              "            observer.disconnect();\n",
              "        }}\n",
              "}});\n",
              "\n",
              "// Listen for the removal of the full notebook cells\n",
              "var notebookContainer = gd.closest('#notebook-container');\n",
              "if (notebookContainer) {{\n",
              "    x.observe(notebookContainer, {childList: true});\n",
              "}}\n",
              "\n",
              "// Listen for the clearing of the current output cell\n",
              "var outputEl = gd.closest('.output');\n",
              "if (outputEl) {{\n",
              "    x.observe(outputEl, {childList: true});\n",
              "}}\n",
              "\n",
              "                        })                };                            </script>        </div>\n",
              "</body>\n",
              "</html>"
            ]
          },
          "metadata": {}
        }
      ]
    },
    {
      "cell_type": "code",
      "source": [
        "# Get max OI strike for Calls\n",
        "max_call_strike = calls.loc[calls['openInterest'].idxmax(), 'strike']\n",
        "\n",
        "# Get max OI strike for Puts\n",
        "max_put_strike = puts.loc[puts['openInterest'].idxmax(), 'strike']\n",
        "\n",
        "print(f\"Max OI Call Strike: {max_call_strike}\")\n",
        "print(f\"Max OI Put Strike:  {max_put_strike}\")\n"
      ],
      "metadata": {
        "colab": {
          "base_uri": "https://localhost:8080/"
        },
        "id": "cHY30cllt1H1",
        "outputId": "8355b698-1397-4ae7-bcfc-b37eabeaba84"
      },
      "execution_count": 4,
      "outputs": [
        {
          "output_type": "stream",
          "name": "stdout",
          "text": [
            "Max OI Call Strike: 6500.0\n",
            "Max OI Put Strike:  5200.0\n"
          ]
        }
      ]
    },
    {
      "cell_type": "code",
      "source": [
        "spot = ticker.history(period=\"1d\")['Close'].iloc[-1]\n",
        "print(f\"SPX Spot: {spot:.2f}\")\n"
      ],
      "metadata": {
        "colab": {
          "base_uri": "https://localhost:8080/"
        },
        "id": "P7igOLrqt6nV",
        "outputId": "7690ff91-b460-405e-8523-c46bcfa451f2"
      },
      "execution_count": 5,
      "outputs": [
        {
          "output_type": "stream",
          "name": "stdout",
          "text": [
            "SPX Spot: 6238.01\n"
          ]
        }
      ]
    },
    {
      "cell_type": "code",
      "source": [
        "upper_band = spot * 1.05\n",
        "lower_band = spot * 0.95\n",
        "\n",
        "print(f\"5% Range: {lower_band:.2f} – {upper_band:.2f}\")\n"
      ],
      "metadata": {
        "colab": {
          "base_uri": "https://localhost:8080/"
        },
        "id": "ONoEyQNet_sK",
        "outputId": "b3afd41a-3cc8-457a-e39f-8ebada7bb67d"
      },
      "execution_count": 6,
      "outputs": [
        {
          "output_type": "stream",
          "name": "stdout",
          "text": [
            "5% Range: 5926.11 – 6549.91\n"
          ]
        }
      ]
    },
    {
      "cell_type": "code",
      "source": [
        "fig.add_vline(x=spot, line_width=2, line_dash=\"dash\", line_color=\"black\", annotation_text=\"SPX Spot\")\n",
        "fig.add_vline(x=upper_band, line_width=1, line_dash=\"dot\", line_color=\"green\", annotation_text=\"+5%\")\n",
        "fig.add_vline(x=lower_band, line_width=1, line_dash=\"dot\", line_color=\"red\", annotation_text=\"-5%\")\n",
        "fig.add_vline(x=max_call_strike, line_width=1, line_dash=\"solid\", line_color=\"blue\", annotation_text=\"Max Call OI\")\n",
        "fig.add_vline(x=max_put_strike, line_width=1, line_dash=\"solid\", line_color=\"orange\", annotation_text=\"Max Put OI\")\n",
        "fig.show()\n"
      ],
      "metadata": {
        "colab": {
          "base_uri": "https://localhost:8080/",
          "height": 542
        },
        "id": "MfOW445ZuE-0",
        "outputId": "286c2dce-1e69-44ee-d69d-3c8d4faf0084"
      },
      "execution_count": 7,
      "outputs": [
        {
          "output_type": "display_data",
          "data": {
            "text/html": [
              "<html>\n",
              "<head><meta charset=\"utf-8\" /></head>\n",
              "<body>\n",
              "    <div>            <script src=\"https://cdnjs.cloudflare.com/ajax/libs/mathjax/2.7.5/MathJax.js?config=TeX-AMS-MML_SVG\"></script><script type=\"text/javascript\">if (window.MathJax && window.MathJax.Hub && window.MathJax.Hub.Config) {window.MathJax.Hub.Config({SVG: {font: \"STIX-Web\"}});}</script>                <script type=\"text/javascript\">window.PlotlyConfig = {MathJaxConfig: 'local'};</script>\n",
              "        <script charset=\"utf-8\" src=\"https://cdn.plot.ly/plotly-2.35.2.min.js\"></script>                <div id=\"39b1f3d4-9e2a-42ba-937c-b99cf669f575\" class=\"plotly-graph-div\" style=\"height:525px; width:100%;\"></div>            <script type=\"text/javascript\">                                    window.PLOTLYENV=window.PLOTLYENV || {};                                    if (document.getElementById(\"39b1f3d4-9e2a-42ba-937c-b99cf669f575\")) {                    Plotly.newPlot(                        \"39b1f3d4-9e2a-42ba-937c-b99cf669f575\",                        [{\"alignmentgroup\":\"True\",\"hovertemplate\":\"type=Call\\u003cbr\\u003estrike=%{x}\\u003cbr\\u003eopenInterest=%{y}\\u003cextra\\u003e\\u003c\\u002fextra\\u003e\",\"legendgroup\":\"Call\",\"marker\":{\"color\":\"#636efa\",\"pattern\":{\"shape\":\"\"}},\"name\":\"Call\",\"offsetgroup\":\"Call\",\"orientation\":\"v\",\"showlegend\":true,\"textposition\":\"auto\",\"x\":[4800.0,4900.0,5000.0,5300.0,5350.0,5400.0,5650.0,5675.0,5700.0,5750.0,5900.0,5925.0,5930.0,5950.0,5960.0,5970.0,5975.0,5980.0,6000.0,6010.0,6025.0,6030.0,6040.0,6050.0,6070.0,6090.0,6100.0,6110.0,6120.0,6125.0,6130.0,6135.0,6140.0,6150.0,6155.0,6160.0,6165.0,6170.0,6175.0,6180.0,6190.0,6200.0,6205.0,6210.0,6215.0,6220.0,6225.0,6230.0,6235.0,6240.0,6245.0,6250.0,6255.0,6260.0,6265.0,6270.0,6275.0,6280.0,6285.0,6290.0,6295.0,6300.0,6305.0,6310.0,6315.0,6320.0,6325.0,6330.0,6335.0,6340.0,6345.0,6350.0,6355.0,6360.0,6365.0,6370.0,6375.0,6380.0,6385.0,6390.0,6395.0,6400.0,6405.0,6410.0,6415.0,6420.0,6425.0,6430.0,6435.0,6440.0,6445.0,6450.0,6455.0,6460.0,6465.0,6470.0,6475.0,6480.0,6485.0,6490.0,6500.0,6510.0,6520.0,6525.0,6530.0,6540.0,6550.0,6575.0,6600.0,6625.0,6650.0,6675.0,6700.0,6750.0,6800.0,6900.0,7000.0,7400.0,7800.0],\"xaxis\":\"x\",\"y\":[3,3,18,9,10,8,100,100,1,5,1,6,1,1,2,4,2,1,2,1,6,9,12,8,11,83,53,20,4,8,1,8,16,56,10,45,1,17,71,15,8,157,22,70,18,63,124,38,11,80,16,1077,24,78,31,156,278,76,36,70,27,1427,133,154,38,161,449,98,70,144,159,1613,217,522,195,254,776,376,368,698,395,2274,213,530,415,636,1009,684,568,347,478,4650,318,624,1167,427,1488,479,947,815,12459,727,885,3204,831,983,1613,665,594,410,195,46,260,166,97,19,22,1,1],\"yaxis\":\"y\",\"type\":\"bar\"},{\"alignmentgroup\":\"True\",\"hovertemplate\":\"type=Put\\u003cbr\\u003estrike=%{x}\\u003cbr\\u003eopenInterest=%{y}\\u003cextra\\u003e\\u003c\\u002fextra\\u003e\",\"legendgroup\":\"Put\",\"marker\":{\"color\":\"#EF553B\",\"pattern\":{\"shape\":\"\"}},\"name\":\"Put\",\"offsetgroup\":\"Put\",\"orientation\":\"v\",\"showlegend\":true,\"textposition\":\"auto\",\"x\":[2600.0,2800.0,3200.0,3400.0,3600.0,3800.0,4000.0,4200.0,4400.0,4600.0,4800.0,4900.0,5000.0,5100.0,5200.0,5300.0,5350.0,5375.0,5400.0,5425.0,5450.0,5475.0,5500.0,5525.0,5550.0,5575.0,5600.0,5625.0,5650.0,5675.0,5700.0,5725.0,5750.0,5775.0,5800.0,5825.0,5850.0,5875.0,5900.0,5925.0,5930.0,5940.0,5950.0,5960.0,5970.0,5975.0,5980.0,5990.0,6000.0,6010.0,6020.0,6025.0,6030.0,6040.0,6050.0,6055.0,6060.0,6065.0,6070.0,6075.0,6080.0,6085.0,6090.0,6095.0,6100.0,6105.0,6110.0,6115.0,6120.0,6125.0,6130.0,6135.0,6140.0,6145.0,6150.0,6155.0,6160.0,6165.0,6170.0,6175.0,6180.0,6185.0,6190.0,6195.0,6200.0,6205.0,6210.0,6215.0,6220.0,6225.0,6230.0,6235.0,6240.0,6245.0,6250.0,6255.0,6260.0,6265.0,6270.0,6275.0,6280.0,6285.0,6290.0,6295.0,6300.0,6305.0,6310.0,6315.0,6320.0,6325.0,6330.0,6335.0,6340.0,6345.0,6350.0,6355.0,6360.0,6365.0,6370.0,6375.0,6380.0,6385.0,6390.0,6395.0,6400.0,6405.0,6410.0,6415.0,6420.0,6425.0,6430.0,6435.0,6440.0,6445.0,6450.0,6470.0,6490.0,6500.0,6520.0,6525.0,6650.0,6700.0,6800.0],\"xaxis\":\"x\",\"y\":[8,0,27,5,24,19,259,179,1596,251,1364,592,5412,1632,7181,317,1138,308,1358,69,3085,179,1246,55,119,21,1169,565,758,300,562,273,2472,347,1862,252,1701,392,1355,2765,119,165,1436,272,60,863,122,116,858,195,328,1239,188,207,2009,56,78,31,965,223,271,177,285,529,1499,201,694,360,1787,1482,818,208,328,166,1248,387,362,4645,970,344,505,128,1101,235,3078,968,605,356,2097,742,401,446,592,542,5884,251,287,244,336,1100,808,519,349,448,6383,342,578,469,782,872,699,293,768,495,2233,525,700,1048,580,1003,883,205,676,261,1577,214,441,278,217,330,73,57,73,57,2600,14,2,33,24,10,33,30,1],\"yaxis\":\"y\",\"type\":\"bar\"}],                        {\"template\":{\"data\":{\"histogram2dcontour\":[{\"type\":\"histogram2dcontour\",\"colorbar\":{\"outlinewidth\":0,\"ticks\":\"\"},\"colorscale\":[[0.0,\"#0d0887\"],[0.1111111111111111,\"#46039f\"],[0.2222222222222222,\"#7201a8\"],[0.3333333333333333,\"#9c179e\"],[0.4444444444444444,\"#bd3786\"],[0.5555555555555556,\"#d8576b\"],[0.6666666666666666,\"#ed7953\"],[0.7777777777777778,\"#fb9f3a\"],[0.8888888888888888,\"#fdca26\"],[1.0,\"#f0f921\"]]}],\"choropleth\":[{\"type\":\"choropleth\",\"colorbar\":{\"outlinewidth\":0,\"ticks\":\"\"}}],\"histogram2d\":[{\"type\":\"histogram2d\",\"colorbar\":{\"outlinewidth\":0,\"ticks\":\"\"},\"colorscale\":[[0.0,\"#0d0887\"],[0.1111111111111111,\"#46039f\"],[0.2222222222222222,\"#7201a8\"],[0.3333333333333333,\"#9c179e\"],[0.4444444444444444,\"#bd3786\"],[0.5555555555555556,\"#d8576b\"],[0.6666666666666666,\"#ed7953\"],[0.7777777777777778,\"#fb9f3a\"],[0.8888888888888888,\"#fdca26\"],[1.0,\"#f0f921\"]]}],\"heatmap\":[{\"type\":\"heatmap\",\"colorbar\":{\"outlinewidth\":0,\"ticks\":\"\"},\"colorscale\":[[0.0,\"#0d0887\"],[0.1111111111111111,\"#46039f\"],[0.2222222222222222,\"#7201a8\"],[0.3333333333333333,\"#9c179e\"],[0.4444444444444444,\"#bd3786\"],[0.5555555555555556,\"#d8576b\"],[0.6666666666666666,\"#ed7953\"],[0.7777777777777778,\"#fb9f3a\"],[0.8888888888888888,\"#fdca26\"],[1.0,\"#f0f921\"]]}],\"heatmapgl\":[{\"type\":\"heatmapgl\",\"colorbar\":{\"outlinewidth\":0,\"ticks\":\"\"},\"colorscale\":[[0.0,\"#0d0887\"],[0.1111111111111111,\"#46039f\"],[0.2222222222222222,\"#7201a8\"],[0.3333333333333333,\"#9c179e\"],[0.4444444444444444,\"#bd3786\"],[0.5555555555555556,\"#d8576b\"],[0.6666666666666666,\"#ed7953\"],[0.7777777777777778,\"#fb9f3a\"],[0.8888888888888888,\"#fdca26\"],[1.0,\"#f0f921\"]]}],\"contourcarpet\":[{\"type\":\"contourcarpet\",\"colorbar\":{\"outlinewidth\":0,\"ticks\":\"\"}}],\"contour\":[{\"type\":\"contour\",\"colorbar\":{\"outlinewidth\":0,\"ticks\":\"\"},\"colorscale\":[[0.0,\"#0d0887\"],[0.1111111111111111,\"#46039f\"],[0.2222222222222222,\"#7201a8\"],[0.3333333333333333,\"#9c179e\"],[0.4444444444444444,\"#bd3786\"],[0.5555555555555556,\"#d8576b\"],[0.6666666666666666,\"#ed7953\"],[0.7777777777777778,\"#fb9f3a\"],[0.8888888888888888,\"#fdca26\"],[1.0,\"#f0f921\"]]}],\"surface\":[{\"type\":\"surface\",\"colorbar\":{\"outlinewidth\":0,\"ticks\":\"\"},\"colorscale\":[[0.0,\"#0d0887\"],[0.1111111111111111,\"#46039f\"],[0.2222222222222222,\"#7201a8\"],[0.3333333333333333,\"#9c179e\"],[0.4444444444444444,\"#bd3786\"],[0.5555555555555556,\"#d8576b\"],[0.6666666666666666,\"#ed7953\"],[0.7777777777777778,\"#fb9f3a\"],[0.8888888888888888,\"#fdca26\"],[1.0,\"#f0f921\"]]}],\"mesh3d\":[{\"type\":\"mesh3d\",\"colorbar\":{\"outlinewidth\":0,\"ticks\":\"\"}}],\"scatter\":[{\"fillpattern\":{\"fillmode\":\"overlay\",\"size\":10,\"solidity\":0.2},\"type\":\"scatter\"}],\"parcoords\":[{\"type\":\"parcoords\",\"line\":{\"colorbar\":{\"outlinewidth\":0,\"ticks\":\"\"}}}],\"scatterpolargl\":[{\"type\":\"scatterpolargl\",\"marker\":{\"colorbar\":{\"outlinewidth\":0,\"ticks\":\"\"}}}],\"bar\":[{\"error_x\":{\"color\":\"#2a3f5f\"},\"error_y\":{\"color\":\"#2a3f5f\"},\"marker\":{\"line\":{\"color\":\"#E5ECF6\",\"width\":0.5},\"pattern\":{\"fillmode\":\"overlay\",\"size\":10,\"solidity\":0.2}},\"type\":\"bar\"}],\"scattergeo\":[{\"type\":\"scattergeo\",\"marker\":{\"colorbar\":{\"outlinewidth\":0,\"ticks\":\"\"}}}],\"scatterpolar\":[{\"type\":\"scatterpolar\",\"marker\":{\"colorbar\":{\"outlinewidth\":0,\"ticks\":\"\"}}}],\"histogram\":[{\"marker\":{\"pattern\":{\"fillmode\":\"overlay\",\"size\":10,\"solidity\":0.2}},\"type\":\"histogram\"}],\"scattergl\":[{\"type\":\"scattergl\",\"marker\":{\"colorbar\":{\"outlinewidth\":0,\"ticks\":\"\"}}}],\"scatter3d\":[{\"type\":\"scatter3d\",\"line\":{\"colorbar\":{\"outlinewidth\":0,\"ticks\":\"\"}},\"marker\":{\"colorbar\":{\"outlinewidth\":0,\"ticks\":\"\"}}}],\"scattermapbox\":[{\"type\":\"scattermapbox\",\"marker\":{\"colorbar\":{\"outlinewidth\":0,\"ticks\":\"\"}}}],\"scatterternary\":[{\"type\":\"scatterternary\",\"marker\":{\"colorbar\":{\"outlinewidth\":0,\"ticks\":\"\"}}}],\"scattercarpet\":[{\"type\":\"scattercarpet\",\"marker\":{\"colorbar\":{\"outlinewidth\":0,\"ticks\":\"\"}}}],\"carpet\":[{\"aaxis\":{\"endlinecolor\":\"#2a3f5f\",\"gridcolor\":\"white\",\"linecolor\":\"white\",\"minorgridcolor\":\"white\",\"startlinecolor\":\"#2a3f5f\"},\"baxis\":{\"endlinecolor\":\"#2a3f5f\",\"gridcolor\":\"white\",\"linecolor\":\"white\",\"minorgridcolor\":\"white\",\"startlinecolor\":\"#2a3f5f\"},\"type\":\"carpet\"}],\"table\":[{\"cells\":{\"fill\":{\"color\":\"#EBF0F8\"},\"line\":{\"color\":\"white\"}},\"header\":{\"fill\":{\"color\":\"#C8D4E3\"},\"line\":{\"color\":\"white\"}},\"type\":\"table\"}],\"barpolar\":[{\"marker\":{\"line\":{\"color\":\"#E5ECF6\",\"width\":0.5},\"pattern\":{\"fillmode\":\"overlay\",\"size\":10,\"solidity\":0.2}},\"type\":\"barpolar\"}],\"pie\":[{\"automargin\":true,\"type\":\"pie\"}]},\"layout\":{\"autotypenumbers\":\"strict\",\"colorway\":[\"#636efa\",\"#EF553B\",\"#00cc96\",\"#ab63fa\",\"#FFA15A\",\"#19d3f3\",\"#FF6692\",\"#B6E880\",\"#FF97FF\",\"#FECB52\"],\"font\":{\"color\":\"#2a3f5f\"},\"hovermode\":\"closest\",\"hoverlabel\":{\"align\":\"left\"},\"paper_bgcolor\":\"white\",\"plot_bgcolor\":\"#E5ECF6\",\"polar\":{\"bgcolor\":\"#E5ECF6\",\"angularaxis\":{\"gridcolor\":\"white\",\"linecolor\":\"white\",\"ticks\":\"\"},\"radialaxis\":{\"gridcolor\":\"white\",\"linecolor\":\"white\",\"ticks\":\"\"}},\"ternary\":{\"bgcolor\":\"#E5ECF6\",\"aaxis\":{\"gridcolor\":\"white\",\"linecolor\":\"white\",\"ticks\":\"\"},\"baxis\":{\"gridcolor\":\"white\",\"linecolor\":\"white\",\"ticks\":\"\"},\"caxis\":{\"gridcolor\":\"white\",\"linecolor\":\"white\",\"ticks\":\"\"}},\"coloraxis\":{\"colorbar\":{\"outlinewidth\":0,\"ticks\":\"\"}},\"colorscale\":{\"sequential\":[[0.0,\"#0d0887\"],[0.1111111111111111,\"#46039f\"],[0.2222222222222222,\"#7201a8\"],[0.3333333333333333,\"#9c179e\"],[0.4444444444444444,\"#bd3786\"],[0.5555555555555556,\"#d8576b\"],[0.6666666666666666,\"#ed7953\"],[0.7777777777777778,\"#fb9f3a\"],[0.8888888888888888,\"#fdca26\"],[1.0,\"#f0f921\"]],\"sequentialminus\":[[0.0,\"#0d0887\"],[0.1111111111111111,\"#46039f\"],[0.2222222222222222,\"#7201a8\"],[0.3333333333333333,\"#9c179e\"],[0.4444444444444444,\"#bd3786\"],[0.5555555555555556,\"#d8576b\"],[0.6666666666666666,\"#ed7953\"],[0.7777777777777778,\"#fb9f3a\"],[0.8888888888888888,\"#fdca26\"],[1.0,\"#f0f921\"]],\"diverging\":[[0,\"#8e0152\"],[0.1,\"#c51b7d\"],[0.2,\"#de77ae\"],[0.3,\"#f1b6da\"],[0.4,\"#fde0ef\"],[0.5,\"#f7f7f7\"],[0.6,\"#e6f5d0\"],[0.7,\"#b8e186\"],[0.8,\"#7fbc41\"],[0.9,\"#4d9221\"],[1,\"#276419\"]]},\"xaxis\":{\"gridcolor\":\"white\",\"linecolor\":\"white\",\"ticks\":\"\",\"title\":{\"standoff\":15},\"zerolinecolor\":\"white\",\"automargin\":true,\"zerolinewidth\":2},\"yaxis\":{\"gridcolor\":\"white\",\"linecolor\":\"white\",\"ticks\":\"\",\"title\":{\"standoff\":15},\"zerolinecolor\":\"white\",\"automargin\":true,\"zerolinewidth\":2},\"scene\":{\"xaxis\":{\"backgroundcolor\":\"#E5ECF6\",\"gridcolor\":\"white\",\"linecolor\":\"white\",\"showbackground\":true,\"ticks\":\"\",\"zerolinecolor\":\"white\",\"gridwidth\":2},\"yaxis\":{\"backgroundcolor\":\"#E5ECF6\",\"gridcolor\":\"white\",\"linecolor\":\"white\",\"showbackground\":true,\"ticks\":\"\",\"zerolinecolor\":\"white\",\"gridwidth\":2},\"zaxis\":{\"backgroundcolor\":\"#E5ECF6\",\"gridcolor\":\"white\",\"linecolor\":\"white\",\"showbackground\":true,\"ticks\":\"\",\"zerolinecolor\":\"white\",\"gridwidth\":2}},\"shapedefaults\":{\"line\":{\"color\":\"#2a3f5f\"}},\"annotationdefaults\":{\"arrowcolor\":\"#2a3f5f\",\"arrowhead\":0,\"arrowwidth\":1},\"geo\":{\"bgcolor\":\"white\",\"landcolor\":\"#E5ECF6\",\"subunitcolor\":\"white\",\"showland\":true,\"showlakes\":true,\"lakecolor\":\"white\"},\"title\":{\"x\":0.05},\"mapbox\":{\"style\":\"light\"}}},\"xaxis\":{\"anchor\":\"y\",\"domain\":[0.0,1.0],\"title\":{\"text\":\"strike\"}},\"yaxis\":{\"anchor\":\"x\",\"domain\":[0.0,1.0],\"title\":{\"text\":\"openInterest\"}},\"legend\":{\"title\":{\"text\":\"type\"},\"tracegroupgap\":0},\"title\":{\"text\":\"SPX Open Interest by Strike - Expiry 2025-08-04\"},\"barmode\":\"relative\",\"shapes\":[{\"line\":{\"color\":\"black\",\"dash\":\"dash\",\"width\":2},\"type\":\"line\",\"x0\":6238.009765625,\"x1\":6238.009765625,\"xref\":\"x\",\"y0\":0,\"y1\":1,\"yref\":\"y domain\"},{\"line\":{\"color\":\"green\",\"dash\":\"dot\",\"width\":1},\"type\":\"line\",\"x0\":6549.910253906251,\"x1\":6549.910253906251,\"xref\":\"x\",\"y0\":0,\"y1\":1,\"yref\":\"y domain\"},{\"line\":{\"color\":\"red\",\"dash\":\"dot\",\"width\":1},\"type\":\"line\",\"x0\":5926.109277343749,\"x1\":5926.109277343749,\"xref\":\"x\",\"y0\":0,\"y1\":1,\"yref\":\"y domain\"},{\"line\":{\"color\":\"blue\",\"dash\":\"solid\",\"width\":1},\"type\":\"line\",\"x0\":6500.0,\"x1\":6500.0,\"xref\":\"x\",\"y0\":0,\"y1\":1,\"yref\":\"y domain\"},{\"line\":{\"color\":\"orange\",\"dash\":\"solid\",\"width\":1},\"type\":\"line\",\"x0\":5200.0,\"x1\":5200.0,\"xref\":\"x\",\"y0\":0,\"y1\":1,\"yref\":\"y domain\"}],\"annotations\":[{\"showarrow\":false,\"text\":\"SPX Spot\",\"x\":6238.009765625,\"xanchor\":\"left\",\"xref\":\"x\",\"y\":1,\"yanchor\":\"top\",\"yref\":\"y domain\"},{\"showarrow\":false,\"text\":\"+5%\",\"x\":6549.910253906251,\"xanchor\":\"left\",\"xref\":\"x\",\"y\":1,\"yanchor\":\"top\",\"yref\":\"y domain\"},{\"showarrow\":false,\"text\":\"-5%\",\"x\":5926.109277343749,\"xanchor\":\"left\",\"xref\":\"x\",\"y\":1,\"yanchor\":\"top\",\"yref\":\"y domain\"},{\"showarrow\":false,\"text\":\"Max Call OI\",\"x\":6500.0,\"xanchor\":\"left\",\"xref\":\"x\",\"y\":1,\"yanchor\":\"top\",\"yref\":\"y domain\"},{\"showarrow\":false,\"text\":\"Max Put OI\",\"x\":5200.0,\"xanchor\":\"left\",\"xref\":\"x\",\"y\":1,\"yanchor\":\"top\",\"yref\":\"y domain\"}]},                        {\"responsive\": true}                    ).then(function(){\n",
              "                            \n",
              "var gd = document.getElementById('39b1f3d4-9e2a-42ba-937c-b99cf669f575');\n",
              "var x = new MutationObserver(function (mutations, observer) {{\n",
              "        var display = window.getComputedStyle(gd).display;\n",
              "        if (!display || display === 'none') {{\n",
              "            console.log([gd, 'removed!']);\n",
              "            Plotly.purge(gd);\n",
              "            observer.disconnect();\n",
              "        }}\n",
              "}});\n",
              "\n",
              "// Listen for the removal of the full notebook cells\n",
              "var notebookContainer = gd.closest('#notebook-container');\n",
              "if (notebookContainer) {{\n",
              "    x.observe(notebookContainer, {childList: true});\n",
              "}}\n",
              "\n",
              "// Listen for the clearing of the current output cell\n",
              "var outputEl = gd.closest('.output');\n",
              "if (outputEl) {{\n",
              "    x.observe(outputEl, {childList: true});\n",
              "}}\n",
              "\n",
              "                        })                };                            </script>        </div>\n",
              "</body>\n",
              "</html>"
            ]
          },
          "metadata": {}
        }
      ]
    },
    {
      "cell_type": "code",
      "source": [
        "!pip install yfinance pandas\n",
        "\n",
        "import yfinance as yf\n",
        "import pandas as pd\n"
      ],
      "metadata": {
        "colab": {
          "base_uri": "https://localhost:8080/"
        },
        "id": "1PlPI9rhuS08",
        "outputId": "929293fd-5ac2-4701-e469-828cd46b6036"
      },
      "execution_count": 8,
      "outputs": [
        {
          "output_type": "stream",
          "name": "stdout",
          "text": [
            "Requirement already satisfied: yfinance in /usr/local/lib/python3.11/dist-packages (0.2.65)\n",
            "Requirement already satisfied: pandas in /usr/local/lib/python3.11/dist-packages (2.2.2)\n",
            "Requirement already satisfied: numpy>=1.16.5 in /usr/local/lib/python3.11/dist-packages (from yfinance) (2.0.2)\n",
            "Requirement already satisfied: requests>=2.31 in /usr/local/lib/python3.11/dist-packages (from yfinance) (2.32.3)\n",
            "Requirement already satisfied: multitasking>=0.0.7 in /usr/local/lib/python3.11/dist-packages (from yfinance) (0.0.12)\n",
            "Requirement already satisfied: platformdirs>=2.0.0 in /usr/local/lib/python3.11/dist-packages (from yfinance) (4.3.8)\n",
            "Requirement already satisfied: pytz>=2022.5 in /usr/local/lib/python3.11/dist-packages (from yfinance) (2025.2)\n",
            "Requirement already satisfied: frozendict>=2.3.4 in /usr/local/lib/python3.11/dist-packages (from yfinance) (2.4.6)\n",
            "Requirement already satisfied: peewee>=3.16.2 in /usr/local/lib/python3.11/dist-packages (from yfinance) (3.18.2)\n",
            "Requirement already satisfied: beautifulsoup4>=4.11.1 in /usr/local/lib/python3.11/dist-packages (from yfinance) (4.13.4)\n",
            "Requirement already satisfied: curl_cffi>=0.7 in /usr/local/lib/python3.11/dist-packages (from yfinance) (0.12.0)\n",
            "Requirement already satisfied: protobuf>=3.19.0 in /usr/local/lib/python3.11/dist-packages (from yfinance) (5.29.5)\n",
            "Requirement already satisfied: websockets>=13.0 in /usr/local/lib/python3.11/dist-packages (from yfinance) (15.0.1)\n",
            "Requirement already satisfied: python-dateutil>=2.8.2 in /usr/local/lib/python3.11/dist-packages (from pandas) (2.9.0.post0)\n",
            "Requirement already satisfied: tzdata>=2022.7 in /usr/local/lib/python3.11/dist-packages (from pandas) (2025.2)\n",
            "Requirement already satisfied: soupsieve>1.2 in /usr/local/lib/python3.11/dist-packages (from beautifulsoup4>=4.11.1->yfinance) (2.7)\n",
            "Requirement already satisfied: typing-extensions>=4.0.0 in /usr/local/lib/python3.11/dist-packages (from beautifulsoup4>=4.11.1->yfinance) (4.14.1)\n",
            "Requirement already satisfied: cffi>=1.12.0 in /usr/local/lib/python3.11/dist-packages (from curl_cffi>=0.7->yfinance) (1.17.1)\n",
            "Requirement already satisfied: certifi>=2024.2.2 in /usr/local/lib/python3.11/dist-packages (from curl_cffi>=0.7->yfinance) (2025.7.14)\n",
            "Requirement already satisfied: six>=1.5 in /usr/local/lib/python3.11/dist-packages (from python-dateutil>=2.8.2->pandas) (1.17.0)\n",
            "Requirement already satisfied: charset-normalizer<4,>=2 in /usr/local/lib/python3.11/dist-packages (from requests>=2.31->yfinance) (3.4.2)\n",
            "Requirement already satisfied: idna<4,>=2.5 in /usr/local/lib/python3.11/dist-packages (from requests>=2.31->yfinance) (3.10)\n",
            "Requirement already satisfied: urllib3<3,>=1.21.1 in /usr/local/lib/python3.11/dist-packages (from requests>=2.31->yfinance) (2.5.0)\n",
            "Requirement already satisfied: pycparser in /usr/local/lib/python3.11/dist-packages (from cffi>=1.12.0->curl_cffi>=0.7->yfinance) (2.22)\n"
          ]
        }
      ]
    },
    {
      "cell_type": "code",
      "source": [
        "# Spot VIX (CBOE)\n",
        "vix_spot = yf.Ticker(\"^VIX\").history(period=\"1d\")['Close'].iloc[-1]\n",
        "\n",
        "# VIX 1M futures proxy – e.g. VIX1M/VIX3M – koristi VIX futures ETN kao približan indikator\n",
        "# Koristit ćemo ^VIX (spot) i ^VIX3M (CBOE 3M implied volatility index)\n",
        "vix_1m_proxy = yf.Ticker(\"^VIX3M\").history(period=\"1d\")['Close'].iloc[-1]\n",
        "\n",
        "print(f\"VIX Spot: {vix_spot:.2f}\")\n",
        "print(f\"VIX 1M (proxy): {vix_1m_proxy:.2f}\")\n"
      ],
      "metadata": {
        "colab": {
          "base_uri": "https://localhost:8080/"
        },
        "id": "MwH6G8ppuY5q",
        "outputId": "f4f394ea-5c22-4605-b31e-54a20662e2f1"
      },
      "execution_count": 9,
      "outputs": [
        {
          "output_type": "stream",
          "name": "stdout",
          "text": [
            "VIX Spot: 20.38\n",
            "VIX 1M (proxy): 21.24\n"
          ]
        }
      ]
    },
    {
      "cell_type": "code",
      "source": [
        "# Backwardation = VIX spot > VIX 1M\n",
        "is_backwardated = vix_spot > vix_1m_proxy\n",
        "is_low_vix = vix_spot < 18\n",
        "\n",
        "if is_backwardated and is_low_vix:\n",
        "    print(\"🔺 Signal: VIX < 18 and backwardated – High probability regime.\")\n",
        "else:\n",
        "    print(\"⚠️ No signal – Volatility not in setup zone.\")\n"
      ],
      "metadata": {
        "colab": {
          "base_uri": "https://localhost:8080/"
        },
        "id": "fejS9mNNudF6",
        "outputId": "0d1a7e65-e383-4519-8bb8-84453bd96287"
      },
      "execution_count": 10,
      "outputs": [
        {
          "output_type": "stream",
          "name": "stdout",
          "text": [
            "⚠️ No signal – Volatility not in setup zone.\n"
          ]
        }
      ]
    },
    {
      "cell_type": "code",
      "source": [
        "# Pretpostavimo da je max_call_strike meta\n",
        "target_strike = max_call_strike  # možeš testirati i s max_put_strike\n",
        "\n",
        "# Izračunaj 2% zonu oko SPX spota\n",
        "upper_entry = spot * 1.02\n",
        "lower_entry = spot * 0.98\n",
        "\n",
        "print(f\"Entry range: {lower_entry:.2f} – {upper_entry:.2f}\")\n",
        "print(f\"Target strike: {target_strike}\")\n",
        "\n",
        "# Provjera ulazne zone\n",
        "enter_trade = lower_entry <= target_strike <= upper_entry\n",
        "\n",
        "if enter_trade:\n",
        "    print(\"✅ Entry condition met: Buy straddle\")\n",
        "else:\n",
        "    print(\"❌ No entry: Outside 2% zone\")\n"
      ],
      "metadata": {
        "colab": {
          "base_uri": "https://localhost:8080/"
        },
        "id": "4e8FzJjmumso",
        "outputId": "65146c92-a939-40ac-a053-4a236e863f8e"
      },
      "execution_count": 11,
      "outputs": [
        {
          "output_type": "stream",
          "name": "stdout",
          "text": [
            "Entry range: 6113.25 – 6362.77\n",
            "Target strike: 6500.0\n",
            "❌ No entry: Outside 2% zone\n"
          ]
        }
      ]
    },
    {
      "cell_type": "code",
      "source": [
        "# Nađi call & put s target strike\n",
        "call_leg = calls[calls['strike'] == target_strike]\n",
        "put_leg = puts[puts['strike'] == target_strike]\n",
        "\n",
        "if not call_leg.empty and not put_leg.empty:\n",
        "    call_price = call_leg['lastPrice'].values[0]\n",
        "    put_price = put_leg['lastPrice'].values[0]\n",
        "    straddle_cost = call_price + put_price\n",
        "    print(f\"Straddle cost: {straddle_cost:.2f}\")\n",
        "else:\n",
        "    print(\"❌ No matching strike found in chain\")\n"
      ],
      "metadata": {
        "colab": {
          "base_uri": "https://localhost:8080/"
        },
        "id": "cTOwCVgkur8t",
        "outputId": "8d7d872f-82ed-4c23-cc24-5287aeb40bb9"
      },
      "execution_count": 12,
      "outputs": [
        {
          "output_type": "stream",
          "name": "stdout",
          "text": [
            "Straddle cost: 273.02\n"
          ]
        }
      ]
    },
    {
      "cell_type": "code",
      "source": [
        "# Exit thresholds\n",
        "target_profit = straddle_cost * 1.5\n",
        "print(f\"Take-profit threshold: {target_profit:.2f}\")\n",
        "\n",
        "# Placeholder: Simulirani P&L (zamijeni s realnim u backtestu)\n",
        "# Pretpostavimo da cijena straddlea poraste na 60% profita\n",
        "simulated_value = straddle_cost * 1.6  # <-- simulacija rasta\n",
        "\n",
        "if simulated_value >= target_profit:\n",
        "    print(\"✅ Take-profit hit: Sell 50%\")\n",
        "    print(\"🔁 Hold 50% to expiry\")\n",
        "else:\n",
        "    print(\"⏳ No exit yet. Monitor trade.\")\n"
      ],
      "metadata": {
        "colab": {
          "base_uri": "https://localhost:8080/"
        },
        "id": "wwvRE8juuwXE",
        "outputId": "eea27520-5356-45f7-9ae1-23d6c14f1ebf"
      },
      "execution_count": 13,
      "outputs": [
        {
          "output_type": "stream",
          "name": "stdout",
          "text": [
            "Take-profit threshold: 409.53\n",
            "✅ Take-profit hit: Sell 50%\n",
            "🔁 Hold 50% to expiry\n"
          ]
        }
      ]
    },
    {
      "cell_type": "code",
      "source": [
        "import yfinance as yf\n",
        "import pandas as pd\n",
        "\n",
        "# Daily SPX data\n",
        "spx = yf.download(\"^GSPC\", start=\"2018-01-01\", end=\"2024-12-31\")\n",
        "spx = spx[['Close']]\n",
        "spx['Return'] = spx['Close'].pct_change()\n"
      ],
      "metadata": {
        "colab": {
          "base_uri": "https://localhost:8080/"
        },
        "id": "RcEKGVmeu-ch",
        "outputId": "ca6af3c0-1592-4a06-ebae-d308190f0c92"
      },
      "execution_count": 14,
      "outputs": [
        {
          "output_type": "stream",
          "name": "stderr",
          "text": [
            "/tmp/ipython-input-226295798.py:5: FutureWarning:\n",
            "\n",
            "YF.download() has changed argument auto_adjust default to True\n",
            "\n",
            "[*********************100%***********************]  1 of 1 completed\n"
          ]
        }
      ]
    },
    {
      "cell_type": "code",
      "source": [
        "# Samo petak = dan kad se opcije expiriraju (za jednostavnost)\n",
        "spx = spx[spx.index.weekday == 4]  # 0=Mon, 4=Fri\n",
        "\n",
        "# 5% OI band = nije dostupna, pa uzimamo “target strike” kao najbliži spot-u rounded na 25\n",
        "spx['TargetStrike'] = (spx['Close'] / 25).round() * 25\n"
      ],
      "metadata": {
        "colab": {
          "base_uri": "https://localhost:8080/"
        },
        "id": "PQYT_kGWvDPb",
        "outputId": "554d86ab-b00c-4f3d-c5a2-2d504d1da2d8"
      },
      "execution_count": 15,
      "outputs": [
        {
          "output_type": "stream",
          "name": "stderr",
          "text": [
            "/tmp/ipython-input-3179237594.py:5: SettingWithCopyWarning:\n",
            "\n",
            "\n",
            "A value is trying to be set on a copy of a slice from a DataFrame.\n",
            "Try using .loc[row_indexer,col_indexer] = value instead\n",
            "\n",
            "See the caveats in the documentation: https://pandas.pydata.org/pandas-docs/stable/user_guide/indexing.html#returning-a-view-versus-a-copy\n",
            "\n"
          ]
        }
      ]
    },
    {
      "cell_type": "code",
      "source": [
        "results = []\n",
        "\n",
        "for date, row in spx.iterrows():\n",
        "    entry_price = float(row['Close'])\n",
        "    strike = float(row['TargetStrike'])\n",
        "    cost = entry_price * 0.025\n",
        "    tp = cost * 1.5\n",
        "\n",
        "    next_rows = spx[spx.index > date]\n",
        "    if next_rows.empty:\n",
        "        continue\n",
        "\n",
        "    expiry_price = float(next_rows.iloc[0]['Close'])\n",
        "    move = abs(expiry_price - strike)\n",
        "    payoff = move\n",
        "\n",
        "    if payoff >= tp:\n",
        "        pnl = 0.5 * tp + 0.5 * max(payoff - cost, 0)\n",
        "        win = True\n",
        "    else:\n",
        "        pnl = max(payoff - cost, 0)\n",
        "        win = pnl > cost\n",
        "\n",
        "    results.append({\n",
        "        'Date': date,\n",
        "        'Entry': entry_price,\n",
        "        'Expiry': expiry_price,\n",
        "        'PNL': pnl - cost,\n",
        "        'Win': win\n",
        "    })\n",
        "\n",
        "df = pd.DataFrame(results)\n"
      ],
      "metadata": {
        "colab": {
          "base_uri": "https://localhost:8080/"
        },
        "id": "bgrDumTKvpny",
        "outputId": "033a0f94-ad7c-44a7-cb5d-40a3c1ab270b"
      },
      "execution_count": 18,
      "outputs": [
        {
          "output_type": "stream",
          "name": "stderr",
          "text": [
            "/tmp/ipython-input-4148733682.py:4: FutureWarning:\n",
            "\n",
            "Calling float on a single element Series is deprecated and will raise a TypeError in the future. Use float(ser.iloc[0]) instead\n",
            "\n",
            "/tmp/ipython-input-4148733682.py:5: FutureWarning:\n",
            "\n",
            "Calling float on a single element Series is deprecated and will raise a TypeError in the future. Use float(ser.iloc[0]) instead\n",
            "\n",
            "/tmp/ipython-input-4148733682.py:13: FutureWarning:\n",
            "\n",
            "Calling float on a single element Series is deprecated and will raise a TypeError in the future. Use float(ser.iloc[0]) instead\n",
            "\n"
          ]
        }
      ]
    },
    {
      "cell_type": "code",
      "source": [
        "total_trades = len(df)\n",
        "wins = df['Win'].sum()\n",
        "losses = total_trades - wins\n",
        "pl_ratio = df[df['PNL'] > 0]['PNL'].sum() / abs(df[df['PNL'] < 0]['PNL'].sum())\n",
        "max_drawdown = df['PNL'].cumsum().min()\n",
        "\n",
        "print(f\"📈 Total Trades: {total_trades}\")\n",
        "print(f\"✅ Wins: {wins}\")\n",
        "print(f\"❌ Losses: {losses}\")\n",
        "print(f\"💰 P/L Ratio: {pl_ratio:.2f}\")\n",
        "print(f\"📉 Max Drawdown: {max_drawdown:.2f}\")\n"
      ],
      "metadata": {
        "colab": {
          "base_uri": "https://localhost:8080/"
        },
        "id": "s6qGMTxVvxb0",
        "outputId": "80e11fb0-e363-4f7d-b5e7-9068cb7a1a5d"
      },
      "execution_count": 19,
      "outputs": [
        {
          "output_type": "stream",
          "name": "stdout",
          "text": [
            "📈 Total Trades: 353\n",
            "✅ Wins: 42\n",
            "❌ Losses: 311\n",
            "💰 P/L Ratio: 0.05\n",
            "📉 Max Drawdown: -27969.59\n"
          ]
        }
      ]
    },
    {
      "cell_type": "code",
      "source": [
        "import yfinance as yf\n",
        "import pandas as pd\n",
        "import numpy as np\n",
        "import matplotlib.pyplot as plt\n",
        "\n",
        "# SPY daily\n",
        "spy = yf.download(\"SPY\", start=\"2018-01-01\", end=\"2024-12-31\")['Close']\n",
        "spy = spy.pct_change().dropna()\n"
      ],
      "metadata": {
        "colab": {
          "base_uri": "https://localhost:8080/"
        },
        "id": "BA8PIPTzv8ns",
        "outputId": "020f7b6f-2250-4a43-8c63-f3b61b5ba512"
      },
      "execution_count": 20,
      "outputs": [
        {
          "output_type": "stream",
          "name": "stderr",
          "text": [
            "/tmp/ipython-input-3472071453.py:7: FutureWarning:\n",
            "\n",
            "YF.download() has changed argument auto_adjust default to True\n",
            "\n",
            "[*********************100%***********************]  1 of 1 completed\n"
          ]
        }
      ]
    },
    {
      "cell_type": "code",
      "source": [
        "# Straddle daily returns (approx: PNLs only on Fridays)\n",
        "df['Return'] = df['PNL'] / df['Entry']\n",
        "mean_return = df['Return'].mean()\n",
        "std_return = df['Return'].std()\n",
        "\n",
        "sharpe_straddle = mean_return / std_return * np.sqrt(52)  # weekly trades\n",
        "\n",
        "# SPY Sharpe\n",
        "spy_sharpe = float(spy.mean() / spy.std() * np.sqrt(252))\n",
        "  # daily\n",
        "\n",
        "print(f\"📊 Straddle Sharpe Ratio: {sharpe_straddle:.2f}\")\n",
        "print(f\"📊 SPY Sharpe Ratio:      {spy_sharpe:.2f}\")\n"
      ],
      "metadata": {
        "colab": {
          "base_uri": "https://localhost:8080/"
        },
        "id": "If84Urp8wDo4",
        "outputId": "56047e7c-e05b-46ad-a26e-4ad26e6350c1"
      },
      "execution_count": 22,
      "outputs": [
        {
          "output_type": "stream",
          "name": "stdout",
          "text": [
            "📊 Straddle Sharpe Ratio: -11.76\n",
            "📊 SPY Sharpe Ratio:      0.76\n"
          ]
        },
        {
          "output_type": "stream",
          "name": "stderr",
          "text": [
            "/tmp/ipython-input-3529647557.py:9: FutureWarning:\n",
            "\n",
            "Calling float on a single element Series is deprecated and will raise a TypeError in the future. Use float(ser.iloc[0]) instead\n",
            "\n"
          ]
        }
      ]
    },
    {
      "cell_type": "code",
      "source": [
        "# Tail risk – najgori 5% PNL-ova\n",
        "tail_straddle = df['PNL'].quantile(0.05)\n",
        "tail_spy = float(spy.quantile(0.05))\n",
        "\n",
        "print(f\"🔻 Straddle Tail 5%: {tail_straddle:.2f}\")\n",
        "print(f\"🔻 SPY Tail 5%:      {tail_spy:.2%}\")\n"
      ],
      "metadata": {
        "colab": {
          "base_uri": "https://localhost:8080/"
        },
        "id": "qtVYy_suwnYk",
        "outputId": "33fc2cfe-6593-48de-a4c3-0a20ad9e18b5"
      },
      "execution_count": 24,
      "outputs": [
        {
          "output_type": "stream",
          "name": "stdout",
          "text": [
            "🔻 Straddle Tail 5%: -138.12\n",
            "🔻 SPY Tail 5%:      -1.85%\n"
          ]
        },
        {
          "output_type": "stream",
          "name": "stderr",
          "text": [
            "/tmp/ipython-input-1931866219.py:3: FutureWarning:\n",
            "\n",
            "Calling float on a single element Series is deprecated and will raise a TypeError in the future. Use float(ser.iloc[0]) instead\n",
            "\n"
          ]
        }
      ]
    },
    {
      "cell_type": "code",
      "source": [
        "df['CumulativePNL'] = df['PNL'].cumsum()\n",
        "\n",
        "plt.figure(figsize=(12, 6))\n",
        "plt.plot(df['Date'], df['CumulativePNL'], label='Straddle Strategy')\n",
        "plt.title(\"📈 Cumulative P&L (2018–2024)\")\n",
        "plt.xlabel(\"Date\")\n",
        "plt.ylabel(\"P&L ($)\")\n",
        "plt.legend()\n",
        "plt.grid(True)\n",
        "plt.show()\n"
      ],
      "metadata": {
        "colab": {
          "base_uri": "https://localhost:8080/",
          "height": 637
        },
        "id": "u0iL4LDQws_0",
        "outputId": "ea0f674e-a781-41e0-b2e3-de7acf8a0d7e"
      },
      "execution_count": 25,
      "outputs": [
        {
          "output_type": "stream",
          "name": "stderr",
          "text": [
            "/usr/local/lib/python3.11/dist-packages/IPython/core/pylabtools.py:151: UserWarning:\n",
            "\n",
            "Glyph 128200 (\\N{CHART WITH UPWARDS TREND}) missing from font(s) DejaVu Sans.\n",
            "\n"
          ]
        },
        {
          "output_type": "display_data",
          "data": {
            "text/plain": [
              "<Figure size 1200x600 with 1 Axes>"
            ],
            "image/png": "[encoded data removed]"
          },
          "metadata": {}
        }
      ]
    },
    {
      "cell_type": "code",
      "source": [
        "readme_text = \"\"\"\n",
        "# SPX Options Straddle Strategy (2018–2024)\n",
        "\n",
        "This project tests a simple weekly SPX options strategy based on open interest and volatility structure.\n",
        "\n",
        "---\n",
        "\n",
        "## 📈 Strategy Rules\n",
        "\n",
        "- **Entry:** Buy straddle if SPX spot is within ±2% of the highest OI strike (call)\n",
        "- **Exit:**\n",
        "  - Sell 50% of position at +50% profit\n",
        "  - Hold the rest until expiry\n",
        "\n",
        "---\n",
        "\n",
        "## 🧠 Market Filters\n",
        "\n",
        "- Enter trade **only if**:\n",
        "  - VIX < 18\n",
        "  - VIX term structure is **backwardated** (spot > 1M)\n",
        "\n",
        "---\n",
        "\n",
        "## ⚙️ Backtest Details\n",
        "\n",
        "- **Period:** 2018–2024 (weekly)\n",
        "- **Approximation:**\n",
        "  - Straddle cost: 2.5% of SPX\n",
        "  - Payoff: Absolute move from strike\n",
        "- **Data:** Yahoo Finance (SPX & VIX), no historical option chains\n",
        "\n",
        "---\n",
        "\n",
        "## 📊 Results Summary\n",
        "\n",
        "| Metric             | Value               |\n",
        "|--------------------|---------------------|\n",
        "| Total Trades       | XX                  |\n",
        "| Win Rate           | XX%                 |\n",
        "| Sharpe (strategy)  | X.XX                |\n",
        "| Sharpe (SPY)       | X.XX                |\n",
        "| Max Drawdown       | -$XXX               |\n",
        "| Tail (5%) P&L      | -$XXX               |\n",
        "\n",
        "_(Update table with your actual numbers from Day 5/6.)_\n",
        "\n",
        "---\n",
        "\n",
        "## 📉 Comparison to SPY\n",
        "\n",
        "- Strategy Sharpe vs Buy & Hold\n",
        "- Cumulative P&L plot included\n",
        "- Tail risk comparison (worst 5% cases)\n",
        "\n",
        "---\n",
        "\n",
        "## 📁 Files\n",
        "\n",
        "- `notebook.ipynb` – main code + plots\n",
        "- `README.md` – this file\n",
        "- `results.csv` – optional output export\n",
        "\n",
        "---\n",
        "\n",
        "## 🔒 Disclaimer\n",
        "\n",
        "This strategy is for **educational purposes only**. No live options data or execution costs are included. Historical options data is approximated.\n",
        "\n",
        "---\n",
        "\n",
        "## 🔗 Reference\n",
        "\n",
        "Based on @antifragile's framework: [antifragile.pages.dev](https://antifragile.pages.dev)\n",
        "\"\"\"\n",
        "\n",
        "with open(\"README.md\", \"w\") as f:\n",
        "    f.write(readme_text)\n"
      ],
      "metadata": {
        "id": "HdHQoeHqx6z4"
      },
      "execution_count": 27,
      "outputs": []
    }
  ]
}